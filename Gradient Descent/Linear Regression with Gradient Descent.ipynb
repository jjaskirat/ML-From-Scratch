{
 "cells": [
  {
   "cell_type": "code",
   "execution_count": 20,
   "metadata": {},
   "outputs": [],
   "source": [
    "%matplotlib inline\n",
    "import numpy as np\n",
    "import matplotlib.pyplot as plt"
   ]
  },
  {
   "cell_type": "code",
   "execution_count": 21,
   "metadata": {},
   "outputs": [],
   "source": [
    "def generate_x(size = 100, min = -10, max = 10, var = 1):\n",
    "    delta1 = np.random.uniform(min, max, size = (size,))\n",
    "    delta2 = np.random.randint(-var, var, size=(size,))\n",
    "    delta1.sort()\n",
    "    x = delta1 - delta2\n",
    "    return x"
   ]
  },
  {
   "cell_type": "code",
   "execution_count": 25,
   "metadata": {},
   "outputs": [],
   "source": [
    "X = generate_x(100, -100, 100, 70)\n",
    "Y = range(100)"
   ]
  },
  {
   "cell_type": "code",
   "execution_count": 73,
   "metadata": {},
   "outputs": [
    {
     "name": "stdout",
     "output_type": "stream",
     "text": [
      "Equation of line:  0.33996075755418687 * x  +  49.78832410326718\n"
     ]
    }
   ],
   "source": [
    "m = 0\n",
    "c = 0\n",
    "\n",
    "L = 0.0001\n",
    "epochs = 100000\n",
    "\n",
    "n = len(X)\n",
    "\n",
    "# Performing Gradient Descent \n",
    "for i in range(epochs): \n",
    "    Y_pred = m*X + c\n",
    "    D_m = (-2/n) * sum(X * (Y - Y_pred))\n",
    "    D_c = (-2/n) * sum(Y - Y_pred)\n",
    "    m = m - L * D_m\n",
    "    c = c - L * D_c\n",
    "    \n",
    "print(\"Equation of line: \", m, \"* x\", \" + \", c)"
   ]
  },
  {
   "cell_type": "code",
   "execution_count": 74,
   "metadata": {},
   "outputs": [
    {
     "data": {
      "image/png": "[encoded data removed]",
      "text/plain": [
       "<Figure size 432x288 with 1 Axes>"
      ]
     },
     "metadata": {
      "needs_background": "light"
     },
     "output_type": "display_data"
    }
   ],
   "source": [
    "x_max = np.max(X) + 1\n",
    "x_min = np.min(X) - 1\n",
    "x = np.linspace(x_min, x_max, 1000)\n",
    "y = c + m * x\n",
    "plt.plot(x, y, color='red', label='Linear Regression')\n",
    "plt.scatter(X, Y, color='Aqua', label='Data Point')\n",
    "plt.xlabel('X')\n",
    "plt.ylabel('Y')\n",
    "plt.legend()\n",
    "plt.show()"
   ]
  },
  {
   "cell_type": "code",
   "execution_count": 75,
   "metadata": {},
   "outputs": [
    {
     "name": "stdout",
     "output_type": "stream",
     "text": [
      "Mean Squared Error 17.604097282181918\n"
     ]
    }
   ],
   "source": [
    "mean_squared_error = 0\n",
    "for i in range(n):\n",
    "    y_pred=  c + m* X[i]\n",
    "    mean_squared_error += (Y[i] - y_pred) ** 2\n",
    "    \n",
    "mean_squared_error = np.sqrt(mean_squared_error/n)\n",
    "print(\"Mean Squared Error\", mean_squared_error)"
   ]
  },
  {
   "cell_type": "code",
   "execution_count": 76,
   "metadata": {},
   "outputs": [
    {
     "name": "stdout",
     "output_type": "stream",
     "text": [
      "Score: 0.6280777184272129\n"
     ]
    }
   ],
   "source": [
    "sumOfSquares = 0\n",
    "sumOfResiduals = 0\n",
    "y_mean = np.mean(Y)\n",
    "for i in range(n) :\n",
    "    y_pred = c + m * X[i]\n",
    "    sumOfSquares += (Y[i] - y_mean) ** 2\n",
    "    sumOfResiduals += (Y[i] - y_pred) **2\n",
    "    \n",
    "score  = 1 - (sumOfResiduals/sumOfSquares)\n",
    "print(\"Score:\",score)"
   ]
  },
  {
   "cell_type": "code",
   "execution_count": null,
   "metadata": {},
   "outputs": [],
   "source": []
  }
 ],
 "metadata": {
  "kernelspec": {
   "display_name": "Python 3",
   "language": "python",
   "name": "python3"
  },
  "language_info": {
   "codemirror_mode": {
    "name": "ipython",
    "version": 3
   },
   "file_extension": ".py",
   "mimetype": "text/x-python",
   "name": "python",
   "nbconvert_exporter": "python",
   "pygments_lexer": "ipython3",
   "version": "3.6.8"
  }
 },
 "nbformat": 4,
 "nbformat_minor": 2
}
