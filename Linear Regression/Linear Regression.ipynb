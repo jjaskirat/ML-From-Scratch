{
 "cells": [
  {
   "cell_type": "code",
   "execution_count": 1,
   "metadata": {},
   "outputs": [],
   "source": [
    "%matplotlib inline\n",
    "import numpy as np\n",
    "import matplotlib.pyplot as plt"
   ]
  },
  {
   "cell_type": "code",
   "execution_count": 15,
   "metadata": {},
   "outputs": [],
   "source": [
    "def generate_x(size = 100, min = -10, max = 10, var = 1):\n",
    "    delta1 = np.random.uniform(min, max, size = (size,))\n",
    "    delta2 = np.random.randint(-var, var, size=(size,))\n",
    "    delta1.sort()\n",
    "    x = delta1 - delta2\n",
    "    return x"
   ]
  },
  {
   "cell_type": "code",
   "execution_count": 17,
   "metadata": {},
   "outputs": [
    {
     "name": "stdout",
     "output_type": "stream",
     "text": [
      "Equation of line:  51.23636316617695 * x  +  0.36026871018604845\n"
     ]
    }
   ],
   "source": [
    "X = generate_x(100, -100, 100, 70)\n",
    "Y = range(100)\n",
    "x_mean = np.mean(X)\n",
    "y_mean = np.mean(Y)\n",
    "n = len(X)\n",
    "numerator = 0\n",
    "denominator = 0\n",
    "for i in range(n):\n",
    "    numerator += (X[i] - x_mean) * (Y[i] - y_mean)\n",
    "    denominator += (X[i] - x_mean) ** 2\n",
    "    \n",
    "b1 = numerator / denominator\n",
    "b0 = y_mean - (b1 * x_mean)\n",
    "\n",
    "\n",
    "print(\"Equation of line: \", b0, \"* x\", \" + \", b1)"
   ]
  },
  {
   "cell_type": "code",
   "execution_count": 18,
   "metadata": {},
   "outputs": [
    {
     "data": {
      "image/png": "[encoded data removed]",
      "text/plain": [
       "<Figure size 432x288 with 1 Axes>"
      ]
     },
     "metadata": {
      "needs_background": "light"
     },
     "output_type": "display_data"
    }
   ],
   "source": [
    "x_max = np.max(X) + 1\n",
    "x_min = np.min(X) - 1\n",
    "x = np.linspace(x_min, x_max, 1000)\n",
    "y = b0 + b1 * x\n",
    "plt.plot(x, y, color='red', label='Linear Regression')\n",
    "plt.scatter(X, Y, color='Aqua', label='Data Point')\n",
    "plt.xlabel('X')\n",
    "plt.ylabel('Y')\n",
    "plt.legend()\n",
    "plt.show()"
   ]
  },
  {
   "cell_type": "code",
   "execution_count": 19,
   "metadata": {},
   "outputs": [
    {
     "name": "stdout",
     "output_type": "stream",
     "text": [
      "Mean Squared Error 17.127107463636523\n"
     ]
    }
   ],
   "source": [
    "mean_squared_error = 0\n",
    "for i in range(n):\n",
    "    y_pred=  b0 + b1* X[i]\n",
    "    mean_squared_error += (Y[i] - y_pred) ** 2\n",
    "    \n",
    "mean_squared_error = np.sqrt(mean_squared_error/n)\n",
    "print(\"Mean Squared Error\", mean_squared_error)"
   ]
  },
  {
   "cell_type": "code",
   "execution_count": 20,
   "metadata": {},
   "outputs": [
    {
     "name": "stdout",
     "output_type": "stream",
     "text": [
      "Score: 0.647959423857241\n"
     ]
    }
   ],
   "source": [
    "sumOfSquares = 0\n",
    "sumOfResiduals = 0\n",
    "for i in range(n) :\n",
    "    y_pred = b0 + b1 * X[i]\n",
    "    sumOfSquares += (Y[i] - y_mean) ** 2\n",
    "    sumOfResiduals += (Y[i] - y_pred) **2\n",
    "    \n",
    "score  = 1 - (sumOfResiduals/sumOfSquares)\n",
    "print(\"Score:\",score)"
   ]
  },
  {
   "cell_type": "code",
   "execution_count": null,
   "metadata": {},
   "outputs": [],
   "source": []
  }
 ],
 "metadata": {
  "kernelspec": {
   "display_name": "Python 3",
   "language": "python",
   "name": "python3"
  },
  "language_info": {
   "codemirror_mode": {
    "name": "ipython",
    "version": 3
   },
   "file_extension": ".py",
   "mimetype": "text/x-python",
   "name": "python",
   "nbconvert_exporter": "python",
   "pygments_lexer": "ipython3",
   "version": "3.6.8"
  }
 },
 "nbformat": 4,
 "nbformat_minor": 2
}
